{
  "cells": [
    {
      "cell_type": "markdown",
      "metadata": {
        "id": "view-in-github",
        "colab_type": "text"
      },
      "source": [
        "<a href=\"https://colab.research.google.com/github/aryadh5/datascience-talenthubkemnaker/blob/main/Arya_Difa_Hendrawan_PR_Data_Preprocessing.ipynb\" target=\"_parent\"><img src=\"https://colab.research.google.com/assets/colab-badge.svg\" alt=\"Open In Colab\"/></a>"
      ]
    },
    {
      "cell_type": "raw",
      "metadata": {
        "id": "o1kPsGphY3Qs"
      },
      "source": []
    },
    {
      "cell_type": "code",
      "execution_count": 3,
      "metadata": {
        "collapsed": true,
        "id": "kXkOeQiqY3Qs"
      },
      "outputs": [],
      "source": [
        "import numpy as np\n",
        "import pandas as pd\n",
        "\n",
        "\n",
        "df= pd.read_csv('diabetes_null.csv')\n"
      ]
    },
    {
      "cell_type": "markdown",
      "metadata": {
        "id": "Ar_oLNnbY3Qu"
      },
      "source": [
        "# Handling Missing Values"
      ]
    },
    {
      "cell_type": "markdown",
      "metadata": {
        "id": "2VdoBivIY3Qv"
      },
      "source": [
        "\n",
        "\n",
        "## 1. Remove Null Value"
      ]
    },
    {
      "cell_type": "code",
      "execution_count": 4,
      "metadata": {
        "id": "ZGZXs6veY3Qv",
        "colab": {
          "base_uri": "https://localhost:8080/"
        },
        "outputId": "498fa8b2-eb45-418b-a0ba-a8530f8d942c"
      },
      "outputs": [
        {
          "output_type": "stream",
          "name": "stdout",
          "text": [
            "     Pregnancies  Glucose  BloodPressure  SkinThickness  Insulin   BMI  \\\n",
            "3              1     89.0           66.0           23.0     94.0  28.1   \n",
            "4              0    137.0            4.0           35.0    168.0  43.1   \n",
            "6              3     78.0            5.0           32.0     88.0  31.0   \n",
            "8              2    197.0            7.0           45.0    543.0   3.5   \n",
            "13             1    189.0            6.0           23.0    846.0   3.1   \n",
            "..           ...      ...            ...            ...      ...   ...   \n",
            "753            0    181.0           88.0           44.0     51.0  43.3   \n",
            "755            1    128.0           88.0           39.0     11.0  36.5   \n",
            "760            2     88.0           58.0           26.0     16.0  28.4   \n",
            "763           10     11.0           76.0           48.0     18.0  32.9   \n",
            "765            5    121.0           72.0           23.0    112.0  26.2   \n",
            "\n",
            "     DiabetesPedigreeFunction  Age  Outcome  \n",
            "3                       0.167   21        0  \n",
            "4                       2.288   33        1  \n",
            "6                       0.248   26        1  \n",
            "8                       0.158   53        1  \n",
            "13                      0.398   59        1  \n",
            "..                        ...  ...      ...  \n",
            "753                     0.222   26        1  \n",
            "755                     1.570   37        1  \n",
            "760                     0.766   22        0  \n",
            "763                     0.171   63        0  \n",
            "765                     0.245    3        0  \n",
            "\n",
            "[392 rows x 9 columns]\n"
          ]
        }
      ],
      "source": [
        "df_clean = df.dropna()#YOUR CODE HERE\n",
        "\n",
        "\n",
        "print(df_clean)"
      ]
    },
    {
      "cell_type": "markdown",
      "metadata": {
        "id": "o3AVvvU0Y3Qv"
      },
      "source": [
        "## 2. Fill Null Value with Mean"
      ]
    },
    {
      "cell_type": "code",
      "execution_count": 5,
      "metadata": {
        "id": "APPoVTAVY3Qv",
        "colab": {
          "base_uri": "https://localhost:8080/"
        },
        "outputId": "5796fb82-1157-404e-cae4-f5bc36aa080e"
      },
      "outputs": [
        {
          "output_type": "stream",
          "name": "stdout",
          "text": [
            "     Pregnancies  Glucose  BloodPressure  SkinThickness     Insulin   BMI  \\\n",
            "0              6    148.0           72.0      35.000000  105.659898  33.6   \n",
            "1              1     85.0           66.0      29.000000  105.659898  26.6   \n",
            "2              8    183.0           64.0      25.876155  105.659898  23.3   \n",
            "3              1     89.0           66.0      23.000000   94.000000  28.1   \n",
            "4              0    137.0            4.0      35.000000  168.000000  43.1   \n",
            "..           ...      ...            ...            ...         ...   ...   \n",
            "763           10     11.0           76.0      48.000000   18.000000  32.9   \n",
            "764            2    122.0            7.0      27.000000  105.659898  36.8   \n",
            "765            5    121.0           72.0      23.000000  112.000000  26.2   \n",
            "766            1    126.0            6.0      25.876155  105.659898   3.1   \n",
            "767            1     93.0            7.0      31.000000  105.659898   3.4   \n",
            "\n",
            "     DiabetesPedigreeFunction  Age  Outcome  \n",
            "0                       0.627    5        1  \n",
            "1                       0.351   31        0  \n",
            "2                       0.672   32        1  \n",
            "3                       0.167   21        0  \n",
            "4                       2.288   33        1  \n",
            "..                        ...  ...      ...  \n",
            "763                     0.171   63        0  \n",
            "764                     0.340   27        0  \n",
            "765                     0.245    3        0  \n",
            "766                     0.349   47        1  \n",
            "767                     0.315   23        0  \n",
            "\n",
            "[768 rows x 9 columns]\n"
          ]
        }
      ],
      "source": [
        "df_filled_mean = df.fillna(df.mean()) #YOUR CODE HERE\n",
        "print(df_filled_mean)"
      ]
    },
    {
      "cell_type": "markdown",
      "metadata": {
        "id": "p4N9a3smY3Qw"
      },
      "source": [
        "## 3. Fill Null Value with Median"
      ]
    },
    {
      "cell_type": "code",
      "execution_count": 6,
      "metadata": {
        "id": "Xsjp0MlWY3Qw",
        "colab": {
          "base_uri": "https://localhost:8080/"
        },
        "outputId": "d64f121b-68f0-4bf6-e4bb-757f87aef55b"
      },
      "outputs": [
        {
          "output_type": "stream",
          "name": "stdout",
          "text": [
            "     Pregnancies  Glucose  BloodPressure  SkinThickness  Insulin   BMI  \\\n",
            "0              6    148.0           72.0           35.0     71.0  33.6   \n",
            "1              1     85.0           66.0           29.0     71.0  26.6   \n",
            "2              8    183.0           64.0           27.0     71.0  23.3   \n",
            "3              1     89.0           66.0           23.0     94.0  28.1   \n",
            "4              0    137.0            4.0           35.0    168.0  43.1   \n",
            "..           ...      ...            ...            ...      ...   ...   \n",
            "763           10     11.0           76.0           48.0     18.0  32.9   \n",
            "764            2    122.0            7.0           27.0     71.0  36.8   \n",
            "765            5    121.0           72.0           23.0    112.0  26.2   \n",
            "766            1    126.0            6.0           27.0     71.0   3.1   \n",
            "767            1     93.0            7.0           31.0     71.0   3.4   \n",
            "\n",
            "     DiabetesPedigreeFunction  Age  Outcome  \n",
            "0                       0.627    5        1  \n",
            "1                       0.351   31        0  \n",
            "2                       0.672   32        1  \n",
            "3                       0.167   21        0  \n",
            "4                       2.288   33        1  \n",
            "..                        ...  ...      ...  \n",
            "763                     0.171   63        0  \n",
            "764                     0.340   27        0  \n",
            "765                     0.245    3        0  \n",
            "766                     0.349   47        1  \n",
            "767                     0.315   23        0  \n",
            "\n",
            "[768 rows x 9 columns]\n"
          ]
        }
      ],
      "source": [
        "df_filled_median = df.fillna(df.median()) #YOUR CODE HERE\n",
        "\n",
        "print(df_filled_median)"
      ]
    },
    {
      "cell_type": "markdown",
      "metadata": {
        "id": "dTuPfNTUY3Qx"
      },
      "source": [
        "## 3. Fill Null Value with Minimum Value"
      ]
    },
    {
      "cell_type": "code",
      "execution_count": 7,
      "metadata": {
        "id": "i9OXZpcZY3Qx",
        "colab": {
          "base_uri": "https://localhost:8080/"
        },
        "outputId": "1b2b801e-442b-4be0-ca90-70f03a3302c6"
      },
      "outputs": [
        {
          "output_type": "stream",
          "name": "stdout",
          "text": [
            "     Pregnancies  Glucose  BloodPressure  SkinThickness  Insulin   BMI  \\\n",
            "0              6    148.0           72.0           35.0      1.0  33.6   \n",
            "1              1     85.0           66.0           29.0      1.0  26.6   \n",
            "2              8    183.0           64.0            1.0      1.0  23.3   \n",
            "3              1     89.0           66.0           23.0     94.0  28.1   \n",
            "4              0    137.0            4.0           35.0    168.0  43.1   \n",
            "..           ...      ...            ...            ...      ...   ...   \n",
            "763           10     11.0           76.0           48.0     18.0  32.9   \n",
            "764            2    122.0            7.0           27.0      1.0  36.8   \n",
            "765            5    121.0           72.0           23.0    112.0  26.2   \n",
            "766            1    126.0            6.0            1.0      1.0   3.1   \n",
            "767            1     93.0            7.0           31.0      1.0   3.4   \n",
            "\n",
            "     DiabetesPedigreeFunction  Age  Outcome  \n",
            "0                       0.627    5        1  \n",
            "1                       0.351   31        0  \n",
            "2                       0.672   32        1  \n",
            "3                       0.167   21        0  \n",
            "4                       2.288   33        1  \n",
            "..                        ...  ...      ...  \n",
            "763                     0.171   63        0  \n",
            "764                     0.340   27        0  \n",
            "765                     0.245    3        0  \n",
            "766                     0.349   47        1  \n",
            "767                     0.315   23        0  \n",
            "\n",
            "[768 rows x 9 columns]\n"
          ]
        }
      ],
      "source": [
        "df_filled_min = df.fillna(df.min()) #YOUR CODE HERE\n",
        "\n",
        "print(df_filled_min)"
      ]
    }
  ],
  "metadata": {
    "kernelspec": {
      "display_name": "Python 3",
      "language": "python",
      "name": "python3"
    },
    "language_info": {
      "codemirror_mode": {
        "name": "ipython",
        "version": 3
      },
      "file_extension": ".py",
      "mimetype": "text/x-python",
      "name": "python",
      "nbconvert_exporter": "python",
      "pygments_lexer": "ipython3",
      "version": "3.6.2"
    },
    "colab": {
      "provenance": [],
      "include_colab_link": true
    }
  },
  "nbformat": 4,
  "nbformat_minor": 0
}